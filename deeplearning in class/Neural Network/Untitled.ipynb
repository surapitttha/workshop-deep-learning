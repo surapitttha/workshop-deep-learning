{
 "cells": [
  {
   "cell_type": "code",
   "execution_count": 1,
   "id": "3964c6f6-82a9-4bbd-8adc-e4f2921bea82",
   "metadata": {},
   "outputs": [],
   "source": [
    "import numpy as np\n",
    "import pandas as pd\n",
    "import seaborn as sns\n",
    "import matplotlib.pyplot as plt\n"
   ]
  },
  {
   "cell_type": "code",
   "execution_count": 2,
   "id": "16ad85c7-1926-438b-b2eb-e8b6b94145aa",
   "metadata": {},
   "outputs": [
    {
     "data": {
      "text/html": [
       "<div>\n",
       "<style scoped>\n",
       "    .dataframe tbody tr th:only-of-type {\n",
       "        vertical-align: middle;\n",
       "    }\n",
       "\n",
       "    .dataframe tbody tr th {\n",
       "        vertical-align: top;\n",
       "    }\n",
       "\n",
       "    .dataframe thead th {\n",
       "        text-align: right;\n",
       "    }\n",
       "</style>\n",
       "<table border=\"1\" class=\"dataframe\">\n",
       "  <thead>\n",
       "    <tr style=\"text-align: right;\">\n",
       "      <th></th>\n",
       "      <th>m</th>\n",
       "      <th>d</th>\n",
       "      <th>target</th>\n",
       "    </tr>\n",
       "  </thead>\n",
       "  <tbody>\n",
       "    <tr>\n",
       "      <th>2</th>\n",
       "      <td>6.5</td>\n",
       "      <td>5.5</td>\n",
       "      <td>0</td>\n",
       "    </tr>\n",
       "    <tr>\n",
       "      <th>14</th>\n",
       "      <td>8.7</td>\n",
       "      <td>3.5</td>\n",
       "      <td>0</td>\n",
       "    </tr>\n",
       "    <tr>\n",
       "      <th>10</th>\n",
       "      <td>8.9</td>\n",
       "      <td>5.2</td>\n",
       "      <td>0</td>\n",
       "    </tr>\n",
       "    <tr>\n",
       "      <th>4</th>\n",
       "      <td>6.9</td>\n",
       "      <td>5.9</td>\n",
       "      <td>0</td>\n",
       "    </tr>\n",
       "    <tr>\n",
       "      <th>0</th>\n",
       "      <td>6.0</td>\n",
       "      <td>4.2</td>\n",
       "      <td>0</td>\n",
       "    </tr>\n",
       "    <tr>\n",
       "      <th>1</th>\n",
       "      <td>5.7</td>\n",
       "      <td>3.6</td>\n",
       "      <td>0</td>\n",
       "    </tr>\n",
       "    <tr>\n",
       "      <th>8</th>\n",
       "      <td>7.5</td>\n",
       "      <td>3.8</td>\n",
       "      <td>1</td>\n",
       "    </tr>\n",
       "  </tbody>\n",
       "</table>\n",
       "</div>"
      ],
      "text/plain": [
       "      m    d  target\n",
       "2   6.5  5.5       0\n",
       "14  8.7  3.5       0\n",
       "10  8.9  5.2       0\n",
       "4   6.9  5.9       0\n",
       "0   6.0  4.2       0\n",
       "1   5.7  3.6       0\n",
       "8   7.5  3.8       1"
      ]
     },
     "execution_count": 2,
     "metadata": {},
     "output_type": "execute_result"
    }
   ],
   "source": [
    "#data sets\n",
    "df = pd.read_csv('data/fruit2class.csv')\n",
    "\n",
    "df.sample(7)"
   ]
  },
  {
   "cell_type": "code",
   "execution_count": 3,
   "id": "b88f66a6-eaa1-4b24-b23a-390288405e12",
   "metadata": {},
   "outputs": [
    {
     "data": {
      "text/plain": [
       "m         0\n",
       "d         0\n",
       "target    0\n",
       "dtype: int64"
      ]
     },
     "execution_count": 3,
     "metadata": {},
     "output_type": "execute_result"
    }
   ],
   "source": [
    "df.isnull().sum()"
   ]
  },
  {
   "cell_type": "code",
   "execution_count": 4,
   "id": "de65228b-3c02-4e08-90a8-d6965f1ac169",
   "metadata": {},
   "outputs": [
    {
     "data": {
      "text/plain": [
       "array([0, 1], dtype=int64)"
      ]
     },
     "execution_count": 4,
     "metadata": {},
     "output_type": "execute_result"
    }
   ],
   "source": [
    "df.target.unique()"
   ]
  },
  {
   "cell_type": "code",
   "execution_count": 7,
   "id": "21d6349a-c67b-4fa3-86b4-19c6d0ae4424",
   "metadata": {},
   "outputs": [],
   "source": [
    "x = df.drop('target',axis=1)\n",
    "y = df.target\n"
   ]
  },
  {
   "cell_type": "code",
   "execution_count": 8,
   "id": "29f91f6b-fb33-4222-807a-825d5e64a54c",
   "metadata": {},
   "outputs": [],
   "source": [
    "#Feature Scaling\n",
    "from sklearn.preprocessing import StandardScaler\n",
    "sc = StandardScaler()\n",
    "\n",
    "x_train = sc.fit_transform(x)\n",
    "\n",
    "y_train = y"
   ]
  },
  {
   "cell_type": "code",
   "execution_count": 9,
   "id": "92d9e4a6-05f2-4621-993a-da3d562ac92a",
   "metadata": {},
   "outputs": [
    {
     "data": {
      "text/plain": [
       "array([[-1.31291621, -0.31157784],\n",
       "       [-1.60111733, -0.96371751],\n",
       "       [-0.83258101,  1.10139144],\n",
       "       [-0.73651397, -1.39847729],\n",
       "       [-0.44831285,  1.53615122],\n",
       "       [ 0.60842459, -1.50716724],\n",
       "       [ 0.80055866, -0.09419795],\n",
       "       [-0.35224581,  0.34056183],\n",
       "       [ 0.12808939, -0.74633762],\n",
       "       [ 0.03202235,  0.66663166],\n",
       "       [ 1.47302794,  0.77532161],\n",
       "       [ 0.60842459,  1.64484117],\n",
       "       [ 1.56909498, -0.52895773],\n",
       "       [-1.21684917,  0.55794172],\n",
       "       [ 1.28089386, -1.07240746]])"
      ]
     },
     "execution_count": 9,
     "metadata": {},
     "output_type": "execute_result"
    }
   ],
   "source": [
    "x_train"
   ]
  },
  {
   "cell_type": "code",
   "execution_count": 10,
   "id": "bf80e10c-adc3-43d0-807d-d04069f1d165",
   "metadata": {},
   "outputs": [
    {
     "data": {
      "text/html": [
       "<div>\n",
       "<style scoped>\n",
       "    .dataframe tbody tr th:only-of-type {\n",
       "        vertical-align: middle;\n",
       "    }\n",
       "\n",
       "    .dataframe tbody tr th {\n",
       "        vertical-align: top;\n",
       "    }\n",
       "\n",
       "    .dataframe thead th {\n",
       "        text-align: right;\n",
       "    }\n",
       "</style>\n",
       "<table border=\"1\" class=\"dataframe\">\n",
       "  <thead>\n",
       "    <tr style=\"text-align: right;\">\n",
       "      <th></th>\n",
       "      <th>d</th>\n",
       "      <th>m</th>\n",
       "      <th>target</th>\n",
       "    </tr>\n",
       "  </thead>\n",
       "  <tbody>\n",
       "    <tr>\n",
       "      <th>0</th>\n",
       "      <td>-1.312916</td>\n",
       "      <td>-0.311578</td>\n",
       "      <td>0</td>\n",
       "    </tr>\n",
       "    <tr>\n",
       "      <th>1</th>\n",
       "      <td>-1.601117</td>\n",
       "      <td>-0.963718</td>\n",
       "      <td>0</td>\n",
       "    </tr>\n",
       "    <tr>\n",
       "      <th>2</th>\n",
       "      <td>-0.832581</td>\n",
       "      <td>1.101391</td>\n",
       "      <td>0</td>\n",
       "    </tr>\n",
       "    <tr>\n",
       "      <th>3</th>\n",
       "      <td>-0.736514</td>\n",
       "      <td>-1.398477</td>\n",
       "      <td>0</td>\n",
       "    </tr>\n",
       "    <tr>\n",
       "      <th>4</th>\n",
       "      <td>-0.448313</td>\n",
       "      <td>1.536151</td>\n",
       "      <td>0</td>\n",
       "    </tr>\n",
       "  </tbody>\n",
       "</table>\n",
       "</div>"
      ],
      "text/plain": [
       "          d         m  target\n",
       "0 -1.312916 -0.311578       0\n",
       "1 -1.601117 -0.963718       0\n",
       "2 -0.832581  1.101391       0\n",
       "3 -0.736514 -1.398477       0\n",
       "4 -0.448313  1.536151       0"
      ]
     },
     "execution_count": 10,
     "metadata": {},
     "output_type": "execute_result"
    }
   ],
   "source": [
    "df_sc = pd.DataFrame(x_train,columns=['d','m'])\n",
    "df_sc['target'] = y_train\n",
    "df_sc.head()"
   ]
  },
  {
   "cell_type": "code",
   "execution_count": 11,
   "id": "889ab89d-11d7-44ca-90a2-e9a702e59eca",
   "metadata": {},
   "outputs": [],
   "source": [
    "from sklearn.neural_network import MLPClassifier"
   ]
  },
  {
   "cell_type": "code",
   "execution_count": 13,
   "id": "fe820b2f-5b6b-4e3b-8b66-80a131cf22b0",
   "metadata": {},
   "outputs": [],
   "source": [
    "#model\n",
    "hidden =100\n",
    "model1 = MLPClassifier(random_state=1)"
   ]
  },
  {
   "cell_type": "code",
   "execution_count": 18,
   "id": "4c4c9c5c-1172-446e-887c-a05d98ce0e58",
   "metadata": {},
   "outputs": [],
   "source": [
    "iter =2000\n",
    "hidden =100\n",
    "model2 = MLPClassifier(max_iter=iter,random_state=1)"
   ]
  },
  {
   "cell_type": "code",
   "execution_count": 19,
   "id": "599e7260-cf15-4c84-a657-c43ad4916689",
   "metadata": {},
   "outputs": [],
   "source": [
    "iter = 200\n",
    "hidden =150\n",
    "model3 = MLPClassifier(hidden_layer_sizes=(hidden),max_iter=iter,random_state=1)"
   ]
  },
  {
   "cell_type": "code",
   "execution_count": 20,
   "id": "a04ce9c1-bbaf-4967-a051-37388556eeb3",
   "metadata": {},
   "outputs": [],
   "source": [
    "iter = 2000\n",
    "hidden =4\n",
    "model4 = MLPClassifier(hidden_layer_sizes=(hidden),max_iter=iter,random_state=1)"
   ]
  },
  {
   "cell_type": "code",
   "execution_count": 35,
   "id": "28971c7f-267f-4701-bc15-9d7e687d6913",
   "metadata": {},
   "outputs": [],
   "source": [
    "iter = 2000\n",
    "hidden =10\n",
    "model5 = MLPClassifier(hidden_layer_sizes=(hidden),max_iter=iter,random_state=1)"
   ]
  },
  {
   "cell_type": "code",
   "execution_count": 36,
   "id": "790c01a5-59ee-487e-af86-d20843c3ed1a",
   "metadata": {},
   "outputs": [
    {
     "name": "stderr",
     "output_type": "stream",
     "text": [
      "C:\\Users\\DELL\\anaconda3\\lib\\site-packages\\sklearn\\neural_network\\_multilayer_perceptron.py:692: ConvergenceWarning: Stochastic Optimizer: Maximum iterations (200) reached and the optimization hasn't converged yet.\n",
      "  warnings.warn(\n",
      "C:\\Users\\DELL\\anaconda3\\lib\\site-packages\\sklearn\\neural_network\\_multilayer_perceptron.py:692: ConvergenceWarning: Stochastic Optimizer: Maximum iterations (2000) reached and the optimization hasn't converged yet.\n",
      "  warnings.warn(\n",
      "C:\\Users\\DELL\\anaconda3\\lib\\site-packages\\sklearn\\neural_network\\_multilayer_perceptron.py:692: ConvergenceWarning: Stochastic Optimizer: Maximum iterations (2000) reached and the optimization hasn't converged yet.\n",
      "  warnings.warn(\n",
      "C:\\Users\\DELL\\anaconda3\\lib\\site-packages\\sklearn\\neural_network\\_multilayer_perceptron.py:692: ConvergenceWarning: Stochastic Optimizer: Maximum iterations (2000) reached and the optimization hasn't converged yet.\n",
      "  warnings.warn(\n"
     ]
    },
    {
     "data": {
      "text/plain": [
       "MLPClassifier(hidden_layer_sizes=10, max_iter=2000, random_state=1)"
      ]
     },
     "execution_count": 36,
     "metadata": {},
     "output_type": "execute_result"
    }
   ],
   "source": [
    "#train the model\n",
    "model = model1\n",
    "model.fit(x_train,y_train)\n",
    "model2.fit(x_train,y_train)\n",
    "model3.fit(x_train,y_train)\n",
    "model4.fit(x_train,y_train)\n",
    "model5.fit(x_train,y_train)"
   ]
  },
  {
   "cell_type": "code",
   "execution_count": 23,
   "id": "36976b28-988d-4bda-ba6f-253a71319f54",
   "metadata": {},
   "outputs": [
    {
     "name": "stdout",
     "output_type": "stream",
     "text": [
      "score : 0.7333\n",
      "actual y: [0 0 0 0 0 0 1 1 1 1 0 0 0 0 0]\n",
      "predicted [0 0 0 0 0 0 0 0 0 0 0 0 0 0 0]\n"
     ]
    }
   ],
   "source": [
    "print('score : {:.4f}'.format(model.score(x_train,y_train)))\n",
    "print('actual y:',np.array(y))\n",
    "print('predicted',model.predict(x_train))"
   ]
  },
  {
   "cell_type": "code",
   "execution_count": 31,
   "id": "22a14c09-e3b9-42fc-bc89-3012f6f4ad13",
   "metadata": {},
   "outputs": [
    {
     "name": "stdout",
     "output_type": "stream",
     "text": [
      "Score -> 0.7333\n",
      "              precision    recall  f1-score   support\n",
      "\n",
      "       Grape       0.73      1.00      0.85        11\n",
      "       Lemon       0.00      0.00      0.00         4\n",
      "\n",
      "    accuracy                           0.73        15\n",
      "   macro avg       0.37      0.50      0.42        15\n",
      "weighted avg       0.54      0.73      0.62        15\n",
      "\n",
      "[[11  0]\n",
      " [ 4  0]]\n"
     ]
    },
    {
     "name": "stderr",
     "output_type": "stream",
     "text": [
      "C:\\Users\\DELL\\anaconda3\\lib\\site-packages\\sklearn\\metrics\\_classification.py:1318: UndefinedMetricWarning: Precision and F-score are ill-defined and being set to 0.0 in labels with no predicted samples. Use `zero_division` parameter to control this behavior.\n",
      "  _warn_prf(average, modifier, msg_start, len(result))\n",
      "C:\\Users\\DELL\\anaconda3\\lib\\site-packages\\sklearn\\metrics\\_classification.py:1318: UndefinedMetricWarning: Precision and F-score are ill-defined and being set to 0.0 in labels with no predicted samples. Use `zero_division` parameter to control this behavior.\n",
      "  _warn_prf(average, modifier, msg_start, len(result))\n",
      "C:\\Users\\DELL\\anaconda3\\lib\\site-packages\\sklearn\\metrics\\_classification.py:1318: UndefinedMetricWarning: Precision and F-score are ill-defined and being set to 0.0 in labels with no predicted samples. Use `zero_division` parameter to control this behavior.\n",
      "  _warn_prf(average, modifier, msg_start, len(result))\n"
     ]
    }
   ],
   "source": [
    "#Evaluation\n",
    "from sklearn.metrics import classification_report, confusion_matrix\n",
    "\n",
    "y_predict = model.predict(x_train)\n",
    "class_names = ['Grape', 'Lemon']\n",
    "\n",
    "print('Score -> {:.4f}' . format(model.score(x_train, y_train)))\n",
    "print(classification_report(y_train, y_predict, target_names=class_names))\n",
    "print(confusion_matrix(y_train, y_predict))"
   ]
  },
  {
   "cell_type": "code",
   "execution_count": 29,
   "id": "dc956c49-bc5f-4237-b58c-a59753890a93",
   "metadata": {},
   "outputs": [
    {
     "data": {
      "image/png": "[encoded data removed]",
      "text/plain": [
       "<Figure size 640x480 with 2 Axes>"
      ]
     },
     "metadata": {},
     "output_type": "display_data"
    }
   ],
   "source": [
    "from sklearn.metrics import confusion_matrix, ConfusionMatrixDisplay\n",
    "\n",
    "cm = confusion_matrix(y_train, y_predict)\n",
    "ConfusionMatrixDisplay(cm, display_labels=class_names).plot()\n",
    "plt.title('Confusion Matrix')\n",
    "plt.show()"
   ]
  },
  {
   "cell_type": "code",
   "execution_count": 33,
   "id": "5ee41cc0-e0b4-4411-b4fd-86343343caf2",
   "metadata": {},
   "outputs": [
    {
     "data": {
      "text/plain": [
       "<AxesSubplot:>"
      ]
     },
     "execution_count": 33,
     "metadata": {},
     "output_type": "execute_result"
    },
    {
     "data": {
      "image/png": "[encoded data removed]",
      "text/plain": [
       "<Figure size 500x500 with 1 Axes>"
      ]
     },
     "metadata": {},
     "output_type": "display_data"
    }
   ],
   "source": [
    "#Decision Regions\n",
    "from mlxtend.plotting import plot_decision_regions\n",
    "\n",
    "plt.figure(figsize=(5,5))\n",
    "plot_decision_regions(x_train,np.array(y_train),clf=model,legend=2)"
   ]
  },
  {
   "cell_type": "code",
   "execution_count": 38,
   "id": "8c086c0f-0055-4240-ad47-82bfe0204f7d",
   "metadata": {},
   "outputs": [
    {
     "data": {
      "text/plain": [
       "<AxesSubplot:>"
      ]
     },
     "execution_count": 38,
     "metadata": {},
     "output_type": "execute_result"
    },
    {
     "data": {
      "image/png": "[encoded data removed]",
      "text/plain": [
       "<Figure size 500x500 with 1 Axes>"
      ]
     },
     "metadata": {},
     "output_type": "display_data"
    },
    {
     "data": {
      "image/png": "[encoded data removed]",
      "text/plain": [
       "<Figure size 500x500 with 1 Axes>"
      ]
     },
     "metadata": {},
     "output_type": "display_data"
    },
    {
     "data": {
      "image/png": "[encoded data removed]",
      "text/plain": [
       "<Figure size 500x500 with 1 Axes>"
      ]
     },
     "metadata": {},
     "output_type": "display_data"
    },
    {
     "data": {
      "image/png": "[encoded data removed]",
      "text/plain": [
       "<Figure size 500x500 with 1 Axes>"
      ]
     },
     "metadata": {},
     "output_type": "display_data"
    },
    {
     "data": {
      "image/png": "[encoded data removed]",
      "text/plain": [
       "<Figure size 500x500 with 1 Axes>"
      ]
     },
     "metadata": {},
     "output_type": "display_data"
    }
   ],
   "source": [
    "#Decision Regions\n",
    "from mlxtend.plotting import plot_decision_regions\n",
    "\n",
    "plt.figure(figsize=(5,5))\n",
    "plot_decision_regions(x_train,np.array(y_train),clf=model,legend=2)\n",
    "plt.figure(figsize=(5,5))\n",
    "plot_decision_regions(x_train,np.array(y_train),clf=model2,legend=2)\n",
    "plt.figure(figsize=(5,5))\n",
    "plot_decision_regions(x_train,np.array(y_train),clf=model3,legend=2)\n",
    "plt.figure(figsize=(5,5))\n",
    "plot_decision_regions(x_train,np.array(y_train),clf=model4,legend=2)\n",
    "plt.figure(figsize=(5,5))\n",
    "plot_decision_regions(x_train,np.array(y_train),clf=model5,legend=2)\n"
   ]
  },
  {
   "cell_type": "code",
   "execution_count": null,
   "id": "94dbffd8-233a-4721-a336-29b22921107b",
   "metadata": {},
   "outputs": [],
   "source": []
  }
 ],
 "metadata": {
  "kernelspec": {
   "display_name": "Python 3 (ipykernel)",
   "language": "python",
   "name": "python3"
  },
  "language_info": {
   "codemirror_mode": {
    "name": "ipython",
    "version": 3
   },
   "file_extension": ".py",
   "mimetype": "text/x-python",
   "name": "python",
   "nbconvert_exporter": "python",
   "pygments_lexer": "ipython3",
   "version": "3.9.13"
  }
 },
 "nbformat": 4,
 "nbformat_minor": 5
}
